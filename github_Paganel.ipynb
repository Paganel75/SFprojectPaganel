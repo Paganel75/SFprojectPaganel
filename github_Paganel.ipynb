{
 "cells": [
  {
   "cell_type": "code",
   "execution_count": 2,
   "metadata": {},
   "outputs": [
    {
     "name": "stdout",
     "output_type": "stream",
     "text": [
      "Your algorithm guesses the average number per 5 attempts\n"
     ]
    },
    {
     "data": {
      "text/plain": [
       "5"
      ]
     },
     "execution_count": 2,
     "metadata": {},
     "output_type": "execute_result"
    }
   ],
   "source": [
    "# Code by guessing the number with the fewest attempts\n",
    "\n",
    "import numpy as np\n",
    "\n",
    "count = 0                           # счетчик попыток\n",
    "number = np.random.randint(1,101)   # загадали число\n",
    "\n",
    "\n",
    "def score_game(game_core):\n",
    "    \"\"\"Run the game 1000 times to find out how quickly the \n",
    "    game guesses the number\n",
    "    \n",
    "    \"\"\" \n",
    "    count_ls = []\n",
    "    np.random.seed(1)  \n",
    "    random_array = np.random.randint(1,101, size=(1000))\n",
    "    for number in random_array:\n",
    "        count_ls.append(game_core(number))\n",
    "    score = int(np.mean(count_ls))\n",
    "    print(f\"Your algorithm guesses the average number per {score} attempts\")\n",
    "    return(score)\n",
    "\n",
    "\n",
    "def game_core_v4(guess_num):\n",
    "    \"\"\"Code for calculating the mysterious number \n",
    "    and returning the number of attempts\n",
    "    \n",
    "    \"\"\"\n",
    "    count = 0\n",
    "    required_num = 50\n",
    "    previous_num1 = 101\n",
    "    previous_num2 = 0\n",
    "    while True:\n",
    "        count += 1\n",
    "        if required_num == guess_num:\n",
    "            break    \n",
    "        if required_num < guess_num:\n",
    "            previous_num2 = required_num + 1  \n",
    "        else:\n",
    "            previous_num1 = required_num - 1\n",
    "        required_num = (previous_num1 + previous_num2)//2\n",
    "    \n",
    "    return count\n",
    "score_game(game_core_v4)"
   ]
  }
 ],
 "metadata": {
  "kernelspec": {
   "display_name": "Python 3",
   "language": "python",
   "name": "python3"
  },
  "language_info": {
   "codemirror_mode": {
    "name": "ipython",
    "version": 3
   },
   "file_extension": ".py",
   "mimetype": "text/x-python",
   "name": "python",
   "nbconvert_exporter": "python",
   "pygments_lexer": "ipython3",
   "version": "3.8.5"
  }
 },
 "nbformat": 4,
 "nbformat_minor": 4
}
